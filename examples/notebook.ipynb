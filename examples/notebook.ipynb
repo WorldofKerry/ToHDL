{
 "cells": [
  {
   "cell_type": "code",
   "execution_count": null,
   "metadata": {},
   "outputs": [],
   "source": [
    "%pip install --no-cache-dir --upgrade python2verilog[full]"
   ]
  },
  {
   "cell_type": "code",
   "execution_count": null,
   "metadata": {},
   "outputs": [],
   "source": [
    "from python2verilog import verilogify, namespace_to_verilog, get_namespace\n",
    "from python2verilog.utils.visualization import make_visual\n",
    "\n",
    "ns = get_namespace(\"./notebook\")\n",
    "\n",
    "@verilogify(namespace=ns)\n",
    "def hrange(base, limit, step):\n",
    "    i = base\n",
    "    while i < limit:\n",
    "        yield i\n",
    "        i += step\n",
    "\n",
    "\n",
    "result = list(hrange(25, 50, 7))\n",
    "make_visual(result)\n",
    "\n",
    "module, testbench = namespace_to_verilog(ns)"
   ]
  },
  {
   "cell_type": "code",
   "execution_count": null,
   "metadata": {},
   "outputs": [],
   "source": [
    "print(module)"
   ]
  },
  {
   "cell_type": "code",
   "execution_count": null,
   "metadata": {},
   "outputs": [],
   "source": [
    "print(testbench)"
   ]
  }
 ],
 "metadata": {
  "kernelspec": {
   "display_name": "Python 3",
   "language": "python",
   "name": "python3"
  },
  "language_info": {
   "codemirror_mode": {
    "name": "ipython",
    "version": 3
   },
   "file_extension": ".py",
   "mimetype": "text/x-python",
   "name": "python",
   "nbconvert_exporter": "python",
   "pygments_lexer": "ipython3",
   "version": "3.10.12"
  },
  "orig_nbformat": 4
 },
 "nbformat": 4,
 "nbformat_minor": 2
}
